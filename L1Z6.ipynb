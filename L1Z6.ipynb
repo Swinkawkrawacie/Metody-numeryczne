{
 "cells": [
  {
   "cell_type": "markdown",
   "id": "editorial-detector",
   "metadata": {},
   "source": [
    "# Lista 1. \n",
    "## Zadanie 6.\n",
    "<i>Wykonując ćwiczenia numeryczne zbadać zbieżność ciągu iteracji punktu stałego odpowiednich funkcji.</i>"
   ]
  },
  {
   "cell_type": "code",
   "execution_count": 1,
   "id": "broad-stable",
   "metadata": {},
   "outputs": [],
   "source": [
    "from matplotlib import pyplot as plt\n",
    "import numpy as np"
   ]
  },
  {
   "cell_type": "markdown",
   "id": "small-favor",
   "metadata": {},
   "source": [
    "## Wykorzystano następujące twierdzenia i definicje:"
   ]
  },
  {
   "cell_type": "markdown",
   "id": "divided-telephone",
   "metadata": {},
   "source": [
    "### Twierdzenie Lagrange'a\n",
    "Jeśli dana funkcja $f:\\left[a,b\\right]\\rightarrow\\mathbb{R}$ jest\n",
    "* ciągła w przedziale $\\left[a,b\\right]$,\n",
    "* różniczkowalna w przedziale $\\left(a,b\\right)$\n",
    "to istnieje takie punkt $c\\in\\left(a,b\\right)$, że:\n",
    "\\begin{equation}\n",
    "\\frac{f\\left(b\\right)-f\\left(a\\right)}{b-a}=f'\\left(c\\right).\n",
    "\\end{equation}\n",
    "\n",
    "### Odwzorowanie zwężające (warunek Lipschitza)\n",
    "Niech $\\left(X, \\rho\\right)$ będzie przestrzenią metryczną. Mówimy, że odwzorowanie $\\Phi: X \\rightarrow X$ jest zwężające (jest kontrakcją), jeśli istnieje stała rzeczywista $k \\in \\left[0, 1\\right)$ taka, że dla dowolnych $x,y \\in X$ zachodzi nierówność $\\rho\\left(\\Phi\\left(x\\right), \\Phi\\left(y\\right)\\right) \\leq k\\rho\\left(x, y\\right)$.\n",
    "\n",
    "### Zasada kontrakcji Banacha\n",
    "Niech $\\left(X, \\rho\\right)$ będzie przestrzenia metryczna zupełną i niech $\\Phi: X \\rightarrow X$ będzie kontrakcją. Wtedy:\n",
    "* Odwzorowanie $\\Phi$ jest ciagłe.\n",
    "* Odwzorowanie $\\Phi$ ma dokładnie jeden punkt stały $x^* \\in X$, tzn., $x^* = \\Phi\\left(x^*\\right)$.\n",
    "* Ciąg iteracji $x_n+1 = \\Phi\\left(x_n\\right)$, dla każdego $x_0 \\in X$, jest zbieżny do $x^*$ gdy $n \\rightarrow\\infty$."
   ]
  },
  {
   "cell_type": "markdown",
   "id": "reliable-location",
   "metadata": {},
   "source": [
    "## Wnioski z twierdzeń i definicji"
   ]
  },
  {
   "cell_type": "markdown",
   "id": "liked-nowhere",
   "metadata": {},
   "source": [
    "Jeśli funkcja jest ciągła i różniczkowalna na $\\mathbb{R}$. Z tw. Lagrange'a:\n",
    "\\begin{multline}\n",
    "\\exists_{c\\in\\left(a,b\\right)}\\frac{f\\left(b\\right)-f\\left(a\\right)}{b-a}=f'\\left(c\\right)\n",
    "\\implies \\exists_{c\\in\\left(a,b\\right)}\\left|\\frac{f\\left(b\\right)-f\\left(a\\right)}{b-a}\\right|=\\left|f'\\left(c\\right)\\right|\n",
    "\\iff \\exists_{c\\in\\left(a,b\\right)}\\left|f\\left(b\\right)-f\\left(a\\right)\\right|=\\left|f'\\left(c\\right)\\right|\\left|b-a\\right|.\\quad \\left(1\\right)\n",
    "\\end{multline}"
   ]
  },
  {
   "cell_type": "markdown",
   "id": "demonstrated-dynamics",
   "metadata": {},
   "source": [
    "Niech $\\left(X, \\rho\\right)$ będzie przestrzenią metryczną, gdzie dla $a,b\\in X$, $\\rho\\left(a,b\\right)=\\left|a-b\\right|$. \n",
    "\n",
    "Funkcja $f$ jest kontrakcją, gdy \n",
    "$\\left|f\\left(a\\right)-f\\left(b\\right)\\right|\\leq k\\left|a-b\\right|, \\quad k\\in\\left(0,1\\right)$. "
   ]
  },
  {
   "cell_type": "markdown",
   "id": "perceived-fisher",
   "metadata": {},
   "source": [
    "Z $\\left(1\\right)$ wiadomo, że $\\left|f\\left(b\\right)-f\\left(a\\right)\\right|\\leq\\max\\limits_{c\\in\\left(a,b\\right)}\\left|f'\\left(c\\right)\\right|\\left|b-a\\right|$. \n",
    "\n",
    "Zatem, żeby pokazać, że funkcja f jest kontrakcją na przedziale $\\left[a,b\\right]$, należy wykazać, że \n",
    "$\\max\\limits_{c\\in\\left(a,b\\right)}\\left|f'\\left(c\\right)\\right|<1. \\quad \\left(2\\right)$"
   ]
  },
  {
   "cell_type": "markdown",
   "id": "dutch-woman",
   "metadata": {},
   "source": [
    "### -----------------ZADANIE-------------------------"
   ]
  },
  {
   "cell_type": "markdown",
   "id": "broke-swaziland",
   "metadata": {},
   "source": [
    "<i>a) $x_0=a, x_{k+1}=\\cos x_k$.</i>"
   ]
  },
  {
   "cell_type": "markdown",
   "id": "checked-license",
   "metadata": {},
   "source": [
    "Wyznaczono pochodną funkcji $\\cos x$:\n",
    "$$\n",
    "f'\\left(x\\right)=-\\sin x.\n",
    "$$"
   ]
  },
  {
   "cell_type": "markdown",
   "id": "auburn-cause",
   "metadata": {},
   "source": [
    "Sprawdzono warunek (2). \n",
    "\n",
    "$$\n",
    "\\left|-\\sin x\\right|<1 \\iff x\\neq\\frac{\\pi}{2}+k\\pi, \\,\\,\\mathrm{dla} \\,\\,k\\in\\mathbb{Z}\n",
    "$$\n",
    "\n",
    "Jednak wiadomo, że $x_{k+1}=\\cos x_k$, a $\\cos x_k \\in \\left[-1,1\\right]$, a $\\frac{\\pi}{2}+k\\pi \\notin \\left[-1,1\\right]$. Zatem odwzorowanie jest kontrakcją, dla $X=\\left[-1,1\\right]$."
   ]
  },
  {
   "cell_type": "markdown",
   "id": "quality-spotlight",
   "metadata": {},
   "source": [
    "Zatem z zasady kontrakcji Banacha wiadomo, że $f$ ma dokładnie jeden punkt stały $x^* \\in \\left[-1,1\\right]$, tzn., $x^* = f\\left(x^*\\right)$.\n",
    "Dzięki temu, aby znaleźć $x^*$ wystarczy znaleźć miejsce zerowe funkcji $g\\left(x\\right)=x-\\cos x$."
   ]
  },
  {
   "cell_type": "markdown",
   "id": "composite-warrant",
   "metadata": {},
   "source": [
    "Aby znaleźć miejsce zerowe funkcji $g\\left(x\\right)$, skorzystano z metody bisekcji."
   ]
  },
  {
   "cell_type": "code",
   "execution_count": 2,
   "id": "burning-audit",
   "metadata": {},
   "outputs": [],
   "source": [
    "def bis(func, a0, b0, delta):\n",
    "    if func(a0)*func(b0)>0:\n",
    "        raise ValueError('nie są spełnione założenia twierdzenia Darbouxa')\n",
    "    a = [a0]\n",
    "    b = [b0]\n",
    "    c = [(a0+b0)/2]\n",
    "    while abs(b[-1]-a[-1])>=delta:\n",
    "        if func(a[-1])*func(c[-1])<0:\n",
    "            a.append(a[-1])\n",
    "            b.append(c[-1])\n",
    "        elif func(a[-1])*func(c[-1])>0:\n",
    "            a.append(c[-1])\n",
    "            b.append(b[-1])\n",
    "        c.append((a[-1]+b[-1])/2)\n",
    "    return c[-1]"
   ]
  },
  {
   "cell_type": "code",
   "execution_count": 3,
   "id": "conservative-message",
   "metadata": {},
   "outputs": [],
   "source": [
    "def func_cos(x):\n",
    "    return(x-np.cos(x))"
   ]
  },
  {
   "cell_type": "code",
   "execution_count": 4,
   "id": "polar-allen",
   "metadata": {
    "scrolled": true
   },
   "outputs": [
    {
     "data": {
      "image/png": "[encoded data removed]",
      "text/plain": [
       "<Figure size 432x288 with 1 Axes>"
      ]
     },
     "metadata": {
      "needs_background": "light"
     },
     "output_type": "display_data"
    }
   ],
   "source": [
    "x = np.arange(-1,1,0.01)\n",
    "y = [np.cos(i) for i in x]\n",
    "plt.plot(x,x, label='$y=x$', color='skyblue')\n",
    "plt.plot(x,y, label='$y=\\cos x$', color='hotpink')\n",
    "plt.scatter(0.739,0.739, color='purple', label='$(0.739,0.739)$')\n",
    "plt.xlabel('$x$')\n",
    "plt.ylabel('$f(x)$')\n",
    "plt.legend()\n",
    "plt.show()"
   ]
  },
  {
   "cell_type": "code",
   "execution_count": 5,
   "id": "jewish-administration",
   "metadata": {},
   "outputs": [
    {
     "data": {
      "text/plain": [
       "0.73876953125"
      ]
     },
     "execution_count": 5,
     "metadata": {},
     "output_type": "execute_result"
    }
   ],
   "source": [
    "bis(func_cos, 0,1,0.001)"
   ]
  },
  {
   "cell_type": "markdown",
   "id": "comic-lucas",
   "metadata": {},
   "source": [
    "## Otrzymano $x^*\\approx 0.739$. \n",
    "Porównano z rekurencyjną generacją $x_n$."
   ]
  },
  {
   "cell_type": "code",
   "execution_count": 6,
   "id": "honest-dover",
   "metadata": {},
   "outputs": [],
   "source": [
    "def z6a(x0, k):\n",
    "    if k == 0:\n",
    "        return x0\n",
    "    return np.cos(z6a(x0,k-1))"
   ]
  },
  {
   "cell_type": "markdown",
   "id": "outstanding-karaoke",
   "metadata": {},
   "source": [
    "<i>Ćwiczenie wykonać dla: $a=0,$ </i>"
   ]
  },
  {
   "cell_type": "markdown",
   "id": "descending-christopher",
   "metadata": {},
   "source": [
    "Wiadomo, że $x_0=0\\in \\left[-1,1\\right]$. Zatem ciag jest zbieżny do $x^*\\approx 0.739$."
   ]
  },
  {
   "cell_type": "code",
   "execution_count": 7,
   "id": "facial-punch",
   "metadata": {
    "scrolled": false
   },
   "outputs": [
    {
     "data": {
      "image/png": "[encoded data removed]",
      "text/plain": [
       "<Figure size 432x288 with 1 Axes>"
      ]
     },
     "metadata": {
      "needs_background": "light"
     },
     "output_type": "display_data"
    }
   ],
   "source": [
    "n = 50\n",
    "a = 0\n",
    "X = [z6a(a, i) for i in range(n)]\n",
    "x = range(len(X))\n",
    "y = [0.739 for i in x]\n",
    "plt.scatter(x, X, color='hotpink', label='$x_n$, dla $n\\geq 0$')\n",
    "plt.plot(x,y, color='skyblue', linewidth=3, label='$y=0.739$')\n",
    "plt.xlabel('$n$')\n",
    "plt.ylabel('$x_n$')\n",
    "plt.legend()\n",
    "plt.show()"
   ]
  },
  {
   "cell_type": "markdown",
   "id": "verified-office",
   "metadata": {},
   "source": [
    "<i>$a=\\pi,$</i>"
   ]
  },
  {
   "cell_type": "markdown",
   "id": "concrete-definition",
   "metadata": {},
   "source": [
    "Wiadomo, że $x_0=\\pi$. Wyliczono $x_1 = \\cos\\pi=-1\\in \\left[-1,1\\right]$. Zatem ciag jest zbieżny do $x^*\\approx 0.739$."
   ]
  },
  {
   "cell_type": "code",
   "execution_count": 8,
   "id": "directed-jewelry",
   "metadata": {},
   "outputs": [
    {
     "data": {
      "image/png": "[encoded data removed]",
      "text/plain": [
       "<Figure size 432x288 with 1 Axes>"
      ]
     },
     "metadata": {
      "needs_background": "light"
     },
     "output_type": "display_data"
    }
   ],
   "source": [
    "n = 50\n",
    "a = np.pi\n",
    "X = [z6a(a, i) for i in range(n)]\n",
    "x = range(len(X))\n",
    "y = [0.739 for i in x]\n",
    "plt.scatter(range(len(X)), X, color='hotpink', label='$x_n$, dla $n\\geq 0$')\n",
    "plt.plot(x,y, color='skyblue', linewidth=3, label='$y=0.739$')\n",
    "plt.xlabel('n')\n",
    "plt.ylabel('$x_n$')\n",
    "plt.legend()\n",
    "plt.show()"
   ]
  },
  {
   "cell_type": "markdown",
   "id": "killing-fifth",
   "metadata": {},
   "source": [
    "<i>$a=\\frac{-3}{2}\\pi,$</i>"
   ]
  },
  {
   "cell_type": "markdown",
   "id": "protective-surface",
   "metadata": {},
   "source": [
    "Wiadomo, że $x_0=\\frac{-3}{2}\\pi$. Wyliczono $x_1 = \\cos\\frac{-3}{2}\\pi=0\\in \\left[-1,1\\right]$. Zatem ciag jest zbieżny do $x^*\\approx 0.739$."
   ]
  },
  {
   "cell_type": "code",
   "execution_count": 9,
   "id": "visible-rwanda",
   "metadata": {},
   "outputs": [
    {
     "data": {
      "image/png": "[encoded data removed]",
      "text/plain": [
       "<Figure size 432x288 with 1 Axes>"
      ]
     },
     "metadata": {
      "needs_background": "light"
     },
     "output_type": "display_data"
    }
   ],
   "source": [
    "n = 50\n",
    "a = -3/2*np.pi\n",
    "X = [z6a(a, i) for i in range(n)]\n",
    "x = range(len(X))\n",
    "y = [0.739 for i in x]\n",
    "plt.scatter(range(len(X)), X, color='hotpink', label='$x_n$, dla $n\\geq 0$')\n",
    "plt.plot(x,y, color='skyblue', linewidth=3, label='$y=0.739$')\n",
    "plt.xlabel('n')\n",
    "plt.ylabel('$x_n$')\n",
    "plt.legend()\n",
    "plt.show()"
   ]
  },
  {
   "cell_type": "markdown",
   "id": "growing-domain",
   "metadata": {},
   "source": [
    "<i>$a=\\frac{3}{2}\\pi$.</i>"
   ]
  },
  {
   "cell_type": "markdown",
   "id": "realistic-improvement",
   "metadata": {},
   "source": [
    "Wiadomo, że $x_0=\\frac{3}{2}\\pi$. Wyliczono $x_1 = \\cos\\frac{3}{2}\\pi=0\\in \\left[-1,1\\right]$. Zatem ciag jest zbieżny do $x^*\\approx 0.739$."
   ]
  },
  {
   "cell_type": "code",
   "execution_count": 10,
   "id": "cardiovascular-pixel",
   "metadata": {},
   "outputs": [
    {
     "data": {
      "image/png": "[encoded data removed]",
      "text/plain": [
       "<Figure size 432x288 with 1 Axes>"
      ]
     },
     "metadata": {
      "needs_background": "light"
     },
     "output_type": "display_data"
    }
   ],
   "source": [
    "n = 50\n",
    "a = 3/2*np.pi\n",
    "X = [z6a(a, i) for i in range(n)]\n",
    "x = range(len(X))\n",
    "y = [0.739 for i in x]\n",
    "plt.scatter(range(len(X)), X, color='hotpink', label='$x_n$, dla $n\\geq 0$')\n",
    "plt.plot(x,y, color='skyblue', linewidth=3, label='$y=0.739$')\n",
    "plt.xlabel('n')\n",
    "plt.ylabel('$x_n$')\n",
    "plt.legend()\n",
    "plt.show()"
   ]
  },
  {
   "cell_type": "markdown",
   "id": "varying-difficulty",
   "metadata": {},
   "source": [
    "<i>b) $x_0 = a, x_{k+1} = x_k − (1 + {x_k}^2) \\arctan x_k$.</i>"
   ]
  },
  {
   "cell_type": "markdown",
   "id": "unlike-diameter",
   "metadata": {},
   "source": [
    "Wyznaczono pochodną funkcji $f\\left(x\\right)=x − (1 + x^2) \\arctan x$:\n",
    "$$\n",
    "f'\\left(x\\right)=1-2x\\arctan x-(1+x^2)\\frac{1}{1+x^2}=-2x\\arctan x\n",
    "$$"
   ]
  },
  {
   "cell_type": "markdown",
   "id": "retired-mapping",
   "metadata": {},
   "source": [
    "Sprawdzono, kiedy $f'\\left(x\\right)$ spełnia $\\left(2\\right)$:"
   ]
  },
  {
   "cell_type": "code",
   "execution_count": 11,
   "id": "collected-monster",
   "metadata": {},
   "outputs": [],
   "source": [
    "def func_arc(x):\n",
    "    return abs(-2*x*np.arctan(x))"
   ]
  },
  {
   "cell_type": "code",
   "execution_count": 12,
   "id": "economic-basket",
   "metadata": {},
   "outputs": [],
   "source": [
    "def func_arc2(x):\n",
    "    return abs(2*x*np.arctan(x))-1"
   ]
  },
  {
   "cell_type": "code",
   "execution_count": 13,
   "id": "modified-harris",
   "metadata": {},
   "outputs": [],
   "source": [
    "def func_arc3(x):\n",
    "    return x-(1+x**2)*np.arctan(x)"
   ]
  },
  {
   "cell_type": "code",
   "execution_count": 14,
   "id": "adjustable-shark",
   "metadata": {},
   "outputs": [
    {
     "data": {
      "image/png": "[encoded data removed]",
      "text/plain": [
       "<Figure size 432x288 with 1 Axes>"
      ]
     },
     "metadata": {
      "needs_background": "light"
     },
     "output_type": "display_data"
    }
   ],
   "source": [
    "x = np.arange(-1,3,0.01)\n",
    "y = [func_arc(i) for i in x]\n",
    "plt.plot(x,y, color='hotpink', label='$y=-2x\\,\\,arctan(x)$')\n",
    "plt.plot(x,[1 for i in x], color = 'skyblue', label='$y=1$')\n",
    "plt.xlabel('$x$')\n",
    "plt.ylabel('$f(x)$')\n",
    "plt.legend()\n",
    "plt.show()"
   ]
  },
  {
   "cell_type": "code",
   "execution_count": 15,
   "id": "democratic-battery",
   "metadata": {},
   "outputs": [
    {
     "name": "stdout",
     "output_type": "stream",
     "text": [
      "0.765350341796875\n",
      "-0.765350341796875\n"
     ]
    }
   ],
   "source": [
    "print(bis(func_arc2, 0,1,0.0001))\n",
    "print(bis(func_arc2, -1,0,0.0001))"
   ]
  },
  {
   "cell_type": "code",
   "execution_count": 16,
   "id": "pleasant-hospital",
   "metadata": {},
   "outputs": [
    {
     "data": {
      "text/plain": [
       "1.0000478753861042"
      ]
     },
     "execution_count": 16,
     "metadata": {},
     "output_type": "execute_result"
    }
   ],
   "source": [
    "func_arc(0.7654)"
   ]
  },
  {
   "cell_type": "code",
   "execution_count": 17,
   "id": "genetic-credits",
   "metadata": {},
   "outputs": [
    {
     "data": {
      "text/plain": [
       "1.0000478753861042"
      ]
     },
     "execution_count": 17,
     "metadata": {},
     "output_type": "execute_result"
    }
   ],
   "source": [
    "func_arc(-0.7654)"
   ]
  },
  {
   "cell_type": "code",
   "execution_count": 18,
   "id": "structural-notification",
   "metadata": {},
   "outputs": [
    {
     "data": {
      "image/png": "[encoded data removed]",
      "text/plain": [
       "<Figure size 432x288 with 1 Axes>"
      ]
     },
     "metadata": {
      "needs_background": "light"
     },
     "output_type": "display_data"
    }
   ],
   "source": [
    "x = np.arange(-0.7654,0.7654,0.01)\n",
    "y = [func_arc3(i) for i in x]\n",
    "plt.plot(x,y, color='hotpink', label = '$y=x-(1+x^2)\\,\\,arctan(x)$')\n",
    "plt.xlabel('$x$')\n",
    "plt.ylabel('$f(x)$')\n",
    "plt.legend()\n",
    "plt.show()"
   ]
  },
  {
   "cell_type": "markdown",
   "id": "cathedral-reach",
   "metadata": {},
   "source": [
    "Zatem funkcja $f$ jest kontrakcją na przedziale $\\left(-0.7654, 0.7654\\right)$."
   ]
  },
  {
   "cell_type": "markdown",
   "id": "equivalent-freeware",
   "metadata": {},
   "source": [
    "Zatem z zasady kontrakcji Banacha wiadomo, że $f$ ma dokładnie jeden punkt stały $x^* \\in \\left(-0.7654, 0.7654\\right)$, tzn., $x^* = f\\left(x^*\\right)$.\n",
    "Dzięki temu, aby znaleźć $x^*$ wystarczy znaleźć takie $x$, że $$x=x-(1 + x^2) \\arctan x\\implies (1 + x^2) \\arctan x=0.$$ Można zauważyć, że równanie to jest spełnione dla $x=0$."
   ]
  },
  {
   "cell_type": "markdown",
   "id": "appropriate-amplifier",
   "metadata": {},
   "source": [
    "$(1 + 0^2) \\arctan 0=0$."
   ]
  },
  {
   "cell_type": "code",
   "execution_count": 19,
   "id": "saved-split",
   "metadata": {},
   "outputs": [
    {
     "data": {
      "image/png": "[encoded data removed]",
      "text/plain": [
       "<Figure size 432x288 with 1 Axes>"
      ]
     },
     "metadata": {
      "needs_background": "light"
     },
     "output_type": "display_data"
    }
   ],
   "source": [
    "x = np.arange(-0.7654,0.7654,0.01)\n",
    "y = [func_arc3(i) for i in x]\n",
    "plt.plot(x,y, label='$y=x−(1+x^2)\\,\\,arctan(x)$', color='hotpink')\n",
    "plt.plot(x,x, label='$y=x$', color = 'skyblue')\n",
    "plt.scatter(0,0,color='purple', label='$(0,0)$')\n",
    "plt.xlabel('$x$')\n",
    "plt.ylabel('$f(x)$')\n",
    "plt.legend()\n",
    "plt.show()"
   ]
  },
  {
   "cell_type": "markdown",
   "id": "ultimate-accused",
   "metadata": {},
   "source": [
    "Porównano z rekurencyjną generacją $x_n$."
   ]
  },
  {
   "cell_type": "code",
   "execution_count": 20,
   "id": "american-senate",
   "metadata": {},
   "outputs": [],
   "source": [
    "def z6b(x0, k):\n",
    "    if k == 0:\n",
    "        return x0\n",
    "    return z6b(x0,k-1)-(1+z6b(x0,k-1)**2)*np.arctan(z6b(x0,k-1))"
   ]
  },
  {
   "cell_type": "markdown",
   "id": "subject-plymouth",
   "metadata": {},
   "source": [
    "<i>Ćwiczenie wykonać dla: $a=0.5$,</i>"
   ]
  },
  {
   "cell_type": "markdown",
   "id": "similar-cursor",
   "metadata": {},
   "source": [
    "Wiadomo, że $x_0=0.5\\in\\left(-0.7654, 0.7654\\right)$, zatem ciąg jest zbieżny do 0."
   ]
  },
  {
   "cell_type": "code",
   "execution_count": 21,
   "id": "junior-mandate",
   "metadata": {},
   "outputs": [
    {
     "data": {
      "image/png": "[encoded data removed]",
      "text/plain": [
       "<Figure size 432x288 with 1 Axes>"
      ]
     },
     "metadata": {
      "needs_background": "light"
     },
     "output_type": "display_data"
    }
   ],
   "source": [
    "n = 15\n",
    "a = 0.5\n",
    "X = [z6b(a, i) for i in range(n)]\n",
    "x = range(len(X))\n",
    "y = [0 for i in x]\n",
    "plt.scatter(range(len(X)), X, color='hotpink', label='$x_n$, dla $n\\geq 0$')\n",
    "plt.plot(x,y, color='skyblue', label='$y=0$')\n",
    "plt.xlabel('n')\n",
    "plt.ylabel('$x_n$')\n",
    "plt.legend()\n",
    "plt.show()"
   ]
  },
  {
   "cell_type": "markdown",
   "id": "biblical-behalf",
   "metadata": {},
   "source": [
    "<i>$a=1$</i>"
   ]
  },
  {
   "cell_type": "code",
   "execution_count": 22,
   "id": "golden-works",
   "metadata": {},
   "outputs": [
    {
     "data": {
      "text/plain": [
       "-0.5707963267948966"
      ]
     },
     "execution_count": 22,
     "metadata": {},
     "output_type": "execute_result"
    }
   ],
   "source": [
    "z6b(1, 1)"
   ]
  },
  {
   "cell_type": "markdown",
   "id": "shaped-decrease",
   "metadata": {},
   "source": [
    "Zauważono, że $x_0=1\\notin \\left(-0,7654, 0,7654\\right)$, ale $x_1\\approx -0.57\\in\\left(-0.7654, 0.7654\\right)$. Wyjaśnia to przedstawioną poniżej zbieżność ciągu do $0$."
   ]
  },
  {
   "cell_type": "code",
   "execution_count": 23,
   "id": "federal-lambda",
   "metadata": {},
   "outputs": [
    {
     "data": {
      "image/png": "[encoded data removed]",
      "text/plain": [
       "<Figure size 432x288 with 1 Axes>"
      ]
     },
     "metadata": {
      "needs_background": "light"
     },
     "output_type": "display_data"
    }
   ],
   "source": [
    "n = 15\n",
    "a = 1\n",
    "X = [z6b(a, i) for i in range(n)]\n",
    "x = range(len(X))\n",
    "y = [0 for i in x]\n",
    "plt.scatter(range(len(X)), X, color='hotpink', label='$x_n$, dla $n\\geq 0$')\n",
    "plt.plot(x,y, color='skyblue', label='$y=0$')\n",
    "plt.xlabel('n')\n",
    "plt.ylabel('$x_n$')\n",
    "plt.legend()\n",
    "plt.show()"
   ]
  },
  {
   "cell_type": "markdown",
   "id": "paperback-sheep",
   "metadata": {},
   "source": [
    "<i>$a=10$</i>"
   ]
  },
  {
   "cell_type": "code",
   "execution_count": 24,
   "id": "thick-zambia",
   "metadata": {},
   "outputs": [
    {
     "data": {
      "text/plain": [
       "-138.5838951046772"
      ]
     },
     "execution_count": 24,
     "metadata": {},
     "output_type": "execute_result"
    }
   ],
   "source": [
    "z6b(10, 1)"
   ]
  },
  {
   "cell_type": "markdown",
   "id": "resident-amino",
   "metadata": {},
   "source": [
    "Zauważono, że $x_0=10\\notin \\left(-0,7654, 0,7654\\right)$ i moduł każdego kolejnego wyrazu ciągu $x_n$ jest większy od poprzedniego, dlatego ciąg ten jest rozbieżny."
   ]
  },
  {
   "cell_type": "code",
   "execution_count": 25,
   "id": "caring-cowboy",
   "metadata": {},
   "outputs": [
    {
     "data": {
      "image/png": "[encoded data removed]",
      "text/plain": [
       "<Figure size 432x288 with 1 Axes>"
      ]
     },
     "metadata": {
      "needs_background": "light"
     },
     "output_type": "display_data"
    }
   ],
   "source": [
    "n = 6\n",
    "a = 10\n",
    "X = [z6b(a, i) for i in range(n)]\n",
    "plt.scatter(range(len(X)), X, color='hotpink', label='$x_n$, dla $n\\geq 0$')\n",
    "plt.xlabel('n')\n",
    "plt.ylabel('$x_n$')\n",
    "plt.legend()\n",
    "plt.show()"
   ]
  },
  {
   "cell_type": "code",
   "execution_count": 26,
   "id": "forbidden-psychiatry",
   "metadata": {},
   "outputs": [
    {
     "data": {
      "image/png": "[encoded data removed]",
      "text/plain": [
       "<Figure size 432x288 with 1 Axes>"
      ]
     },
     "metadata": {
      "needs_background": "light"
     },
     "output_type": "display_data"
    }
   ],
   "source": [
    "n = 7\n",
    "a = 10\n",
    "X = [z6b(a, i) for i in range(n)]\n",
    "plt.scatter(range(len(X)), X, color='hotpink', label='$x_n$, dla $n\\geq 0$')\n",
    "plt.xlabel('n')\n",
    "plt.ylabel('$x_n$')\n",
    "plt.legend()\n",
    "plt.show()"
   ]
  },
  {
   "cell_type": "markdown",
   "id": "unavailable-milwaukee",
   "metadata": {},
   "source": [
    "Nagłe wzrosty wartości kolejnych elementów ciągu są spowodowane tym, że we wzorze znajduje się ${x_k}^2$, co sprawia, że dla $a=10$ już $x_1\\approx-138.6$. Dla $a\\leq1$ nie powodowało to takich skoków, ponieważ, dla $a\\in \\left(0,1\\right), a^2\\arctan a$ osiąga małe wartości."
   ]
  }
 ],
 "metadata": {
  "kernelspec": {
   "display_name": "Python 3",
   "language": "python",
   "name": "python3"
  },
  "language_info": {
   "codemirror_mode": {
    "name": "ipython",
    "version": 3
   },
   "file_extension": ".py",
   "mimetype": "text/x-python",
   "name": "python",
   "nbconvert_exporter": "python",
   "pygments_lexer": "ipython3",
   "version": "3.7.0"
  }
 },
 "nbformat": 4,
 "nbformat_minor": 5
}
