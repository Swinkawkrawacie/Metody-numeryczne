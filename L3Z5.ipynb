{
 "cells": [
  {
   "cell_type": "code",
   "execution_count": 8,
   "id": "cellular-belarus",
   "metadata": {},
   "outputs": [],
   "source": [
    "import numpy as np\n",
    "from numpy.linalg import inv\n",
    "from matplotlib import pyplot as plt\n",
    "import scipy.integrate as integrate"
   ]
  },
  {
   "cell_type": "markdown",
   "id": "favorite-career",
   "metadata": {},
   "source": [
    "# Zadanie 5."
   ]
  },
  {
   "cell_type": "markdown",
   "id": "nominated-certificate",
   "metadata": {},
   "source": [
    "W przestrzeni $L^2_p[-1,1]$ z funkcją wagową $w(x)=\\frac{1}{\\sqrt{1-x^2}}$ wielomiany czebyszewa tworzą układ ortogonalny:\n",
    "\n",
    "$$\n",
    "\\int_{-1}^1T_k\\left(x\\right)T_j\\left(x\\right)\\frac{{\\rm{d}}x}{\\sqrt{1-x^2}}\n",
    "=\\begin{cases} \\mbox{$0$} & \\mbox{: } k\\neq j \\\\ \n",
    "\\mbox{$\\pi$} & \\mbox{:} k=j=0 \\\\ \n",
    "\\mbox{$\\frac{\\pi}{2}$} & \\mbox{:} k=j\\neq0 \\end{cases}\n",
    "$$\n",
    "\n",
    "\n",
    "\n",
    "\\{definicja z wikipedii}"
   ]
  },
  {
   "cell_type": "code",
   "execution_count": 1,
   "id": "regular-analysis",
   "metadata": {},
   "outputs": [],
   "source": [
    "def f(x):\n",
    "    return np.exp(-x)*np.cos(x)"
   ]
  },
  {
   "cell_type": "code",
   "execution_count": 2,
   "id": "comic-prescription",
   "metadata": {},
   "outputs": [],
   "source": [
    "def czeb_wiel(x,k):\n",
    "    try:\n",
    "        x[1]\n",
    "    except:\n",
    "        x=[x]\n",
    "    x1 = list(filter(lambda a: a<-1,x))\n",
    "    x2 = list(filter(lambda a: a>=-1 and a<=1,x))\n",
    "    x3 = list(filter(lambda a: a>1,x))\n",
    "    result = [(-1)**k*np.cosh(k*np.arccosh(-i)) for i in x1]\\\n",
    "            + [np.cos(k*np.arccos(i)) for i in x2]\\\n",
    "            + [np.cos(k*np.arccosh(i)) for i in x3]\n",
    "    return result"
   ]
  },
  {
   "cell_type": "code",
   "execution_count": 5,
   "id": "finished-albert",
   "metadata": {},
   "outputs": [
    {
     "data": {
      "text/plain": [
       "array([[3.14159265, 0.        ],\n",
       "       [0.        , 1.57079633]])"
      ]
     },
     "execution_count": 5,
     "metadata": {},
     "output_type": "execute_result"
    }
   ],
   "source": [
    "alpha = np.zeros((2,2))\n",
    "alpha[0,0] = np.pi\n",
    "alpha[1,1] = np.pi/2\n",
    "alpha"
   ]
  },
  {
   "cell_type": "code",
   "execution_count": 9,
   "id": "forbidden-implementation",
   "metadata": {},
   "outputs": [],
   "source": [
    "beta = np.zeros((2,1))\n",
    "beta[0,0] = integrate.quad(lambda x: np.e**(-x)*np.cos(x)/np.sqrt(1-x**2),-1,1)[0]\n",
    "beta[1,0] = integrate.quad(lambda x: x*np.e**(-x)*np.cos(x)/np.sqrt(1-x**2),-1,1)[0]"
   ]
  },
  {
   "cell_type": "code",
   "execution_count": 11,
   "id": "removed-period",
   "metadata": {},
   "outputs": [
    {
     "data": {
      "text/plain": [
       "array([[ 0.93760848],\n",
       "       [-0.73005606]])"
      ]
     },
     "execution_count": 11,
     "metadata": {},
     "output_type": "execute_result"
    }
   ],
   "source": [
    "a1 = np.matmul(inv(alpha),beta)\n",
    "a1"
   ]
  },
  {
   "cell_type": "code",
   "execution_count": 13,
   "id": "molecular-princeton",
   "metadata": {},
   "outputs": [
    {
     "data": {
      "text/plain": [
       "[<matplotlib.lines.Line2D at 0x1a1e7756cf8>]"
      ]
     },
     "execution_count": 13,
     "metadata": {},
     "output_type": "execute_result"
    },
    {
     "data": {
      "image/png": "[encoded data removed]",
      "text/plain": [
       "<Figure size 432x288 with 1 Axes>"
      ]
     },
     "metadata": {
      "needs_background": "light"
     },
     "output_type": "display_data"
    }
   ],
   "source": [
    "x = np.arange(-1,1,0.01)\n",
    "cz0 = czeb_wiel(x,0)\n",
    "cz1 = czeb_wiel(x,1)\n",
    "y1 = [a1.item(0)*cz0[i]+a1.item(1)*cz1[i] for i in range(len(czeb_wiel(x,1)))]\n",
    "plt.plot(x,y1)\n",
    "plt.plot(x,f(x),color='red')"
   ]
  },
  {
   "cell_type": "code",
   "execution_count": 14,
   "id": "disabled-mexican",
   "metadata": {},
   "outputs": [
    {
     "data": {
      "text/plain": [
       "array([[3.14159265, 0.        , 0.        ],\n",
       "       [0.        , 1.57079633, 0.        ],\n",
       "       [0.        , 0.        , 1.57079633]])"
      ]
     },
     "execution_count": 14,
     "metadata": {},
     "output_type": "execute_result"
    }
   ],
   "source": [
    "alpha2 = np.zeros((3,3))\n",
    "alpha2[0,0] = np.pi\n",
    "alpha2[1,1] = np.pi/2\n",
    "alpha2[2,2] = np.pi/2\n",
    "alpha2"
   ]
  },
  {
   "cell_type": "code",
   "execution_count": 15,
   "id": "dated-condition",
   "metadata": {},
   "outputs": [],
   "source": [
    "beta2 = np.zeros((3,1))\n",
    "beta2[0,0] = integrate.quad(lambda x: np.e**(-x)*np.cos(x)/np.sqrt(1-x**2),-1,1)[0]\n",
    "beta2[1,0] = integrate.quad(lambda x: x*np.e**(-x)*np.cos(x)/np.sqrt(1-x**2),-1,1)[0]\n",
    "beta2[2,0] = integrate.quad(lambda x: (2*x**2-1)*np.e**(-x)*np.cos(x)/np.sqrt(1-x**2),-1,1)[0]"
   ]
  },
  {
   "cell_type": "code",
   "execution_count": 16,
   "id": "blocked-eugene",
   "metadata": {},
   "outputs": [
    {
     "data": {
      "text/plain": [
       "array([[ 0.93760848],\n",
       "       [-0.73005606],\n",
       "       [-0.08315977]])"
      ]
     },
     "execution_count": 16,
     "metadata": {},
     "output_type": "execute_result"
    }
   ],
   "source": [
    "a2 = np.matmul(inv(alpha2),beta2)\n",
    "a2"
   ]
  },
  {
   "cell_type": "code",
   "execution_count": 18,
   "id": "introductory-great",
   "metadata": {},
   "outputs": [],
   "source": [
    "x = np.arange(-1,1,0.01)\n",
    "cz0 = czeb_wiel(x,0)\n",
    "cz1 = czeb_wiel(x,1)\n",
    "cz2 = czeb_wiel(x,2)\n",
    "y2 = [a2.item(0)*cz0[i]+a2.item(1)*cz1[i]+a2.item(2)*cz2[i] for i in range(len(czeb_wiel(x,1)))]"
   ]
  },
  {
   "cell_type": "code",
   "execution_count": 19,
   "id": "orange-conjunction",
   "metadata": {},
   "outputs": [
    {
     "data": {
      "text/plain": [
       "[<matplotlib.lines.Line2D at 0x1a1e9933668>]"
      ]
     },
     "execution_count": 19,
     "metadata": {},
     "output_type": "execute_result"
    },
    {
     "data": {
      "image/png": "[encoded data removed]",
      "text/plain": [
       "<Figure size 432x288 with 1 Axes>"
      ]
     },
     "metadata": {
      "needs_background": "light"
     },
     "output_type": "display_data"
    }
   ],
   "source": [
    "plt.plot(x,y2)\n",
    "plt.plot(x,f(x),color='red')"
   ]
  },
  {
   "cell_type": "code",
   "execution_count": 20,
   "id": "weird-component",
   "metadata": {},
   "outputs": [
    {
     "data": {
      "text/plain": [
       "array([[3.14159265, 0.        , 0.        , 0.        ],\n",
       "       [0.        , 1.57079633, 0.        , 0.        ],\n",
       "       [0.        , 0.        , 1.57079633, 0.        ],\n",
       "       [0.        , 0.        , 0.        , 1.57079633]])"
      ]
     },
     "execution_count": 20,
     "metadata": {},
     "output_type": "execute_result"
    }
   ],
   "source": [
    "alpha3 = np.zeros((4,4))\n",
    "alpha3[0,0] = np.pi\n",
    "alpha3[1,1] = np.pi/2\n",
    "alpha3[2,2] = np.pi/2\n",
    "alpha3[3,3] = np.pi/2\n",
    "alpha3"
   ]
  },
  {
   "cell_type": "code",
   "execution_count": 23,
   "id": "conservative-titanium",
   "metadata": {},
   "outputs": [],
   "source": [
    "beta3 = np.zeros((4,1))\n",
    "beta3[0,0] = integrate.quad(lambda x: np.e**(-x)*np.cos(x)/np.sqrt(1-x**2),-1,1)[0]\n",
    "beta3[1,0] = integrate.quad(lambda x: x*np.e**(-x)*np.cos(x)/np.sqrt(1-x**2),-1,1)[0]\n",
    "beta3[2,0] = integrate.quad(lambda x: (2*x**2-1)*np.e**(-x)*np.cos(x)/np.sqrt(1-x**2),-1,1)[0]\n",
    "beta3[3,0] = integrate.quad(lambda x: (2*x*(2*x**2-1)-x)*np.e**(-x)*np.cos(x)/np.sqrt(1-x**2),-1,1)[0]"
   ]
  },
  {
   "cell_type": "code",
   "execution_count": 24,
   "id": "muslim-payment",
   "metadata": {},
   "outputs": [
    {
     "data": {
      "text/plain": [
       "array([[ 0.93760848],\n",
       "       [-0.73005606],\n",
       "       [-0.08315977],\n",
       "       [ 0.09321496]])"
      ]
     },
     "execution_count": 24,
     "metadata": {},
     "output_type": "execute_result"
    }
   ],
   "source": [
    "a3 = np.matmul(inv(alpha3),beta3)\n",
    "a3"
   ]
  },
  {
   "cell_type": "code",
   "execution_count": 26,
   "id": "experienced-referral",
   "metadata": {},
   "outputs": [],
   "source": [
    "x = np.arange(-1,1,0.01)\n",
    "cz0 = czeb_wiel(x,0)\n",
    "cz1 = czeb_wiel(x,1)\n",
    "cz2 = czeb_wiel(x,2)\n",
    "cz3 = czeb_wiel(x,3)\n",
    "y3 = [a3.item(0)*cz0[i]+a3.item(1)*cz1[i]+a3.item(2)*cz2[i]+a3.item(3)*cz3[i] for i in range(len(czeb_wiel(x,1)))]"
   ]
  },
  {
   "cell_type": "code",
   "execution_count": 27,
   "id": "restricted-reporter",
   "metadata": {},
   "outputs": [
    {
     "data": {
      "text/plain": [
       "[<matplotlib.lines.Line2D at 0x1a1e99a32e8>]"
      ]
     },
     "execution_count": 27,
     "metadata": {},
     "output_type": "execute_result"
    },
    {
     "data": {
      "image/png": "[encoded data removed]",
      "text/plain": [
       "<Figure size 432x288 with 1 Axes>"
      ]
     },
     "metadata": {
      "needs_background": "light"
     },
     "output_type": "display_data"
    }
   ],
   "source": [
    "plt.plot(x,y3)\n",
    "plt.plot(x,f(x),color='red')"
   ]
  },
  {
   "cell_type": "code",
   "execution_count": 33,
   "id": "interpreted-classic",
   "metadata": {},
   "outputs": [
    {
     "data": {
      "image/png": "[encoded data removed]",
      "text/plain": [
       "<Figure size 432x288 with 1 Axes>"
      ]
     },
     "metadata": {
      "needs_background": "light"
     },
     "output_type": "display_data"
    }
   ],
   "source": [
    "plt.plot(x,f(x),color='red', linewidth=3, label='$y=f(x)$')\n",
    "plt.plot(x,y1, color='skyblue', label='$y=a_0T_0(x)+a_1T_1(x)$')\n",
    "plt.plot(x,y2, color='hotpink', label='$y=a_0T_0(x)+a_1T_1(x)+a_2T_2(x)$')\n",
    "plt.plot(x,y3, color='lime', label='$y=a_0T_0(x)+a_1T_1(x)+a_2T_2(x)+a_3T_3(x)$')\n",
    "plt.xlabel('x')\n",
    "plt.ylabel('f(x)')\n",
    "plt.legend()\n",
    "plt.show()"
   ]
  },
  {
   "cell_type": "code",
   "execution_count": null,
   "id": "resident-oxide",
   "metadata": {},
   "outputs": [],
   "source": []
  }
 ],
 "metadata": {
  "kernelspec": {
   "display_name": "Python 3",
   "language": "python",
   "name": "python3"
  },
  "language_info": {
   "codemirror_mode": {
    "name": "ipython",
    "version": 3
   },
   "file_extension": ".py",
   "mimetype": "text/x-python",
   "name": "python",
   "nbconvert_exporter": "python",
   "pygments_lexer": "ipython3",
   "version": "3.7.0"
  }
 },
 "nbformat": 4,
 "nbformat_minor": 5
}
