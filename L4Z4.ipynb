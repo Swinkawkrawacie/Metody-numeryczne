{
 "cells": [
  {
   "cell_type": "code",
   "execution_count": 3,
   "id": "possible-collectible",
   "metadata": {},
   "outputs": [],
   "source": [
    "import numpy as np\n",
    "from matplotlib import pyplot as plt"
   ]
  },
  {
   "cell_type": "markdown",
   "id": "severe-language",
   "metadata": {},
   "source": [
    "# Teoria"
   ]
  },
  {
   "cell_type": "markdown",
   "id": "little-german",
   "metadata": {},
   "source": [
    "## Kwadratury złożone\n",
    "\n",
    "### 1. Trapezu\n",
    "$$\n",
    "S\\left(f\\right)=\\frac{h}{2}\\sum\\limits_{j=0}^{N-1}\\left(f\\left(c_j\\right)+f\\left(c_{j+1}\\right)\\right)=h\\sum\\limits_{j=0}^N f\\left(c_j\\right)-\\frac{h}{2}\\left(f\\left(c_0\\right)+f\\left(c_N\\right)\\right)\n",
    "$$\n",
    "\n",
    "### 2. Simpsona (paraboli)\n",
    "$$\n",
    "S\\left(f\\right)=\\frac{h}{3}\\sum\\limits_{j=0}^{N-1}\\left(f\\left(c_j\\right)+4f\\left(c_{j+\\frac{1}{2}}\\right)+f\\left(c_{j+1}\\right)\\right)\n",
    "$$"
   ]
  },
  {
   "cell_type": "markdown",
   "id": "herbal-robert",
   "metadata": {},
   "source": [
    "## Oszacowanie błędu dla kwadratur prostych\n",
    "\n",
    "### 1.Kwadratura trapezu\n",
    "$$E\\left(f\\right)\\leq\\frac{1}{12}h^3\\max\\limits_{x\\in\\left(a,b\\right)}\\left|f''\\left(x\\right)\\right|,$$\n",
    "gdzie $h=b-a$.\n",
    "\n",
    "\n",
    "### 2.Kwadratura Simpsona (paraboli)\n",
    "$$E\\left(f\\right)\\leq\\frac{1}{90}h^5\\max\\limits_{x\\in\\left(a,b\\right)}\\left|f^{(4)}\\left(x\\right)\\right|,$$\n",
    "gdzie $h=\\frac{b-a}{2}$."
   ]
  },
  {
   "cell_type": "markdown",
   "id": "danish-tuition",
   "metadata": {},
   "source": [
    "## Oszacowanie błędu dla kwadratur złożonych\n",
    "Błędy te są szacowane ze wzorem podanym na wykładzie: \n",
    "$$\n",
    "E\\left(f\\right)\\leq C\\left(f\\right)\\,\\frac{b-a}{n}\\,h^{r-1}.\n",
    "$$\n",
    "\n",
    "### 1.Kwadratura trapezu \n",
    "$$\n",
    "E\\left(f\\right)\\leq\\frac{1}{12}\\frac{b-a}{1}h^2\\max\\limits_{x\\in\\left(a,b\\right)}\\left|f''\\left(x\\right)\\right|,\n",
    "$$\n",
    "gdzie $h=\\frac{b-a}{N}$.\n",
    "\n",
    "\n",
    "### 2.Kwadratura Simpsona (paraboli)\n",
    "$$E\\left(f\\right)\\leq\\frac{1}{90}\\frac{b-a}{2}h^4\\max\\limits_{x\\in\\left(a,b\\right)}\\left|f^{(4)}\\left(x\\right)\\right|,$$\n",
    "gdzie $h=\\frac{b-a}{2N}$."
   ]
  },
  {
   "cell_type": "markdown",
   "id": "revised-disclosure",
   "metadata": {},
   "source": [
    "# Zadanie 4."
   ]
  },
  {
   "cell_type": "markdown",
   "id": "improved-climate",
   "metadata": {},
   "source": [
    "Rozważ całkę \n",
    "$$\n",
    "\\int\\limits_0^1{\\rm{e}}^x {\\rm{d}}x.\n",
    "$$\n",
    "Znajdź minimalną liczbę $n$ podprzedziałów, która jest potrzebna dla obliczenia tej całki z błędem bezwzględnym $\\leq 5 \\cdot 10^{−4}$ używając złożonych metod trapezów i Simpsona. W obu przypadkach porównaj otrzymany błąd z błędem teoretycznym."
   ]
  },
  {
   "cell_type": "markdown",
   "id": "aggressive-gospel",
   "metadata": {},
   "source": [
    "### Wartość dokładna\n",
    "Możemy wyznaczyć wartość dokładną tej całki dla późniejszego wykorzystania do sprawdzenia oszacowania błędu.\n",
    "\n",
    "$$\n",
    "\\int\\limits_0^1{\\rm{e}}^x {\\rm{d}}x={{\\rm{e}}^x}\\vert_0^1={\\rm{e}}^1-{\\rm{e}}^0={\\rm{e}}-1.\n",
    "$$"
   ]
  },
  {
   "cell_type": "code",
   "execution_count": 4,
   "id": "seeing-pleasure",
   "metadata": {},
   "outputs": [],
   "source": [
    "I = np.e-1"
   ]
  },
  {
   "cell_type": "markdown",
   "id": "ordinary-charm",
   "metadata": {},
   "source": [
    "### Kwadratura Trapezu"
   ]
  },
  {
   "cell_type": "markdown",
   "id": "collect-armor",
   "metadata": {},
   "source": [
    "#### N wyznaczone z teoretycznego oszacowania błędu"
   ]
  },
  {
   "cell_type": "markdown",
   "id": "speaking-theology",
   "metadata": {},
   "source": [
    "Chcemy, aby błąd bezwzględny złożonej kwadratury trapezu był niewiększy niż $5\\cdot 10^{-4}.$ Zatem korzystając ze znanego oszacowania możemy zapisać\n",
    "$$\n",
    "E\\left(f\\right)\\leq\\frac{1}{12}\\frac{b-a}{1}h^2\\max\\limits_{x\\in\\left(a,b\\right)}\\left|f''\\left(x\\right)\\right|\\leq 5\\cdot 10^{-4},\n",
    "$$\n",
    "gdzie $h=\\frac{b-a}{N}.$"
   ]
  },
  {
   "cell_type": "markdown",
   "id": "sought-belgium",
   "metadata": {},
   "source": [
    "\\begin{aligned}\n",
    "\\frac{1}{12}\\frac{b-a}{1}h^2\\max\\limits_{x\\in\\left(a,b\\right)}\\left|f''\\left(x\\right)\\right|&\\leq 5\\cdot 10^{-4}\\\\\n",
    "\\frac{1}{12}\\frac{b-a}{1}{\\left(\\frac{b-a}{N}\\right)}^2\\max\\limits_{x\\in\\left(a,b\\right)}\\left|f''\\left(x\\right)\\right|&\\leq 5\\cdot 10^{-4}\\\\\n",
    "{\\left(\\frac{1}{N}\\right)}^2&\\leq 12\\cdot \\frac{1}{{\\left(b-a\\right)}^3\\max\\limits_{x\\in\\left(a,b\\right)}\\left|f''\\left(x\\right)\\right|} 5\\cdot 10^{-4}\\\\\n",
    "\\frac{{\\left(b-a\\right)}^3\\max\\limits_{x\\in\\left(a,b\\right)}\\left|f''\\left(x\\right)\\right|}{12\\cdot 5\\cdot 10^{-4}}&\\leq N^2\n",
    "\\end{aligned}\n",
    "\n",
    "\n",
    "Interesuje nas tylko $N$ dodatnie zatem możemy zapisać\n",
    "\n",
    "$$\n",
    "N \\geq \\sqrt{\\frac{{\\left(b-a\\right)}^3\\max\\limits_{x\\in\\left(a,b\\right)}\\left|f''\\left(x\\right)\\right|}{12\\cdot 5\\cdot 10^{-4}}}.\n",
    "$$"
   ]
  },
  {
   "cell_type": "markdown",
   "id": "floating-insulin",
   "metadata": {},
   "source": [
    "Całka jest na przedziale $\\left[0,1\\right]$ z funkcji $f\\left(x\\right)=\\rm{e}^x$.\n",
    "Kolejne pochodne $f$ są równe $f$, zatem \n",
    "\n",
    "$$\n",
    "\\max\\limits_{x\\in\\left(a,b\\right)}\\left|f''\\left(x\\right)\\right|\n",
    "=\\max\\limits_{x\\in\\left(0,1\\right)}\\left|{\\rm{e}}^x\\right|={\\rm{e}}.\n",
    "$$"
   ]
  },
  {
   "cell_type": "markdown",
   "id": "capable-editing",
   "metadata": {},
   "source": [
    "Ostatecznie otrzymujemy\n",
    "\n",
    "$$\n",
    "N \\geq \\sqrt{\\frac{{\\left(1-0\\right)}^3{\\rm{e}}}{12\\cdot 5\\cdot 10^{-4}}}\n",
    "= \\sqrt{\\frac{{\\rm{e}}}{6\\cdot 10^{-3}}}.\n",
    "$$"
   ]
  },
  {
   "cell_type": "code",
   "execution_count": 5,
   "id": "beautiful-deposit",
   "metadata": {},
   "outputs": [
    {
     "data": {
      "text/plain": [
       "21.28490007986509"
      ]
     },
     "execution_count": 5,
     "metadata": {},
     "output_type": "execute_result"
    }
   ],
   "source": [
    "np.sqrt(np.e/6/10**(-3))"
   ]
  },
  {
   "cell_type": "markdown",
   "id": "distributed-liabilities",
   "metadata": {},
   "source": [
    "Jako że $N\\in\\mathbb{Z}$, to minimalne $N$ takie, że błąd bezwzględny na pewno jest niewiększy niż $5\\cdot 10^{-4},$ wynosi $22$."
   ]
  },
  {
   "cell_type": "code",
   "execution_count": 6,
   "id": "comparable-dubai",
   "metadata": {},
   "outputs": [],
   "source": [
    "def zl_trap(a,b,f,N):\n",
    "    \"\"\"\n",
    "    Calculate composite trapezoidal rule\n",
    "    \n",
    "    @par a: (int,float) start of the range of integral\n",
    "    @par b: (int,float) end of the range of integral\n",
    "    @par f: (function) function that the intergal is calculated from\n",
    "    @par N: (int,float) amount of equally spaced panels\n",
    "    return: (float) composite trapezoidal rule\n",
    "    \"\"\"\n",
    "    h = (b-a)/N\n",
    "    c = np.linspace(a,b,N+1)\n",
    "    return h/2*sum(f(c[i])+f(c[i+1]) for i in range(N))"
   ]
  },
  {
   "cell_type": "code",
   "execution_count": 7,
   "id": "arbitrary-chain",
   "metadata": {},
   "outputs": [
    {
     "data": {
      "text/plain": [
       "1.7185776656942175"
      ]
     },
     "execution_count": 7,
     "metadata": {},
     "output_type": "execute_result"
    }
   ],
   "source": [
    "S_T = zl_trap(0,1,np.exp,22)\n",
    "S_T"
   ]
  },
  {
   "cell_type": "markdown",
   "id": "unlike-asbestos",
   "metadata": {},
   "source": [
    "Wartość całki przybliżona przy pomocy złożonej kwadratury trapezu wynosi \n",
    "\n",
    "$$S\\left(f\\right)\\approx 1.71857767.$$"
   ]
  },
  {
   "cell_type": "markdown",
   "id": "relative-queen",
   "metadata": {},
   "source": [
    "Wartość błędu bezwzględnego wyznaczmy jako $E\\left(f\\right)=\\left|I\\left(f\\right)-S\\left(f\\right)\\right|=\\left|{\\rm{e}}-1-S\\left(f\\right)\\right|$"
   ]
  },
  {
   "cell_type": "code",
   "execution_count": 8,
   "id": "careful-nightmare",
   "metadata": {},
   "outputs": [
    {
     "data": {
      "text/plain": [
       "0.0002958372351724581"
      ]
     },
     "execution_count": 8,
     "metadata": {},
     "output_type": "execute_result"
    }
   ],
   "source": [
    "E_T = abs(I-S_T)\n",
    "E_T"
   ]
  },
  {
   "cell_type": "code",
   "execution_count": 9,
   "id": "essential-monster",
   "metadata": {},
   "outputs": [
    {
     "data": {
      "text/plain": [
       "True"
      ]
     },
     "execution_count": 9,
     "metadata": {},
     "output_type": "execute_result"
    }
   ],
   "source": [
    "E_T<=5*10**(-4)"
   ]
  },
  {
   "cell_type": "markdown",
   "id": "sixth-forty",
   "metadata": {},
   "source": [
    "Błąd teoretyczny dla $N=22$ wynosi"
   ]
  },
  {
   "cell_type": "code",
   "execution_count": 10,
   "id": "distant-investigator",
   "metadata": {},
   "outputs": [
    {
     "data": {
      "text/plain": [
       "0.0004680237307952901"
      ]
     },
     "execution_count": 10,
     "metadata": {},
     "output_type": "execute_result"
    }
   ],
   "source": [
    "1/12/22**2*np.e"
   ]
  },
  {
   "cell_type": "code",
   "execution_count": 11,
   "id": "suspected-yahoo",
   "metadata": {},
   "outputs": [
    {
     "data": {
      "text/plain": [
       "True"
      ]
     },
     "execution_count": 11,
     "metadata": {},
     "output_type": "execute_result"
    }
   ],
   "source": [
    "1/12/22**2*np.e<=5*10**(-4)"
   ]
  },
  {
   "cell_type": "markdown",
   "id": "silent-theorem",
   "metadata": {},
   "source": [
    "#### N wyznaczone numerycznie"
   ]
  },
  {
   "cell_type": "code",
   "execution_count": 12,
   "id": "plain-solid",
   "metadata": {},
   "outputs": [
    {
     "data": {
      "text/plain": [
       "17"
      ]
     },
     "execution_count": 12,
     "metadata": {},
     "output_type": "execute_result"
    }
   ],
   "source": [
    "N=0\n",
    "e=1\n",
    "while e>(5*10**(-4)):\n",
    "    N += 1\n",
    "    s = zl_trap(0,1,np.exp,N)\n",
    "    e = abs(s-I)\n",
    "N   "
   ]
  },
  {
   "cell_type": "code",
   "execution_count": 13,
   "id": "pleasant-slovakia",
   "metadata": {},
   "outputs": [
    {
     "data": {
      "text/plain": [
       "1.7187772675429815"
      ]
     },
     "execution_count": 13,
     "metadata": {},
     "output_type": "execute_result"
    }
   ],
   "source": [
    "S_T1 = zl_trap(0,1,np.exp,17)\n",
    "S_T1"
   ]
  },
  {
   "cell_type": "markdown",
   "id": "spare-trainer",
   "metadata": {},
   "source": [
    "Wartość całki przybliżona przy pomocy złożonej kwadratury trapezu wynosi \n",
    "\n",
    "$$S\\left(f\\right)\\approx 1.7187772675.$$"
   ]
  },
  {
   "cell_type": "markdown",
   "id": "prompt-lebanon",
   "metadata": {},
   "source": [
    "Wartość błędu bezwzględnego wynosi"
   ]
  },
  {
   "cell_type": "code",
   "execution_count": 14,
   "id": "identical-positive",
   "metadata": {},
   "outputs": [
    {
     "data": {
      "text/plain": [
       "0.0004954390839364553"
      ]
     },
     "execution_count": 14,
     "metadata": {},
     "output_type": "execute_result"
    }
   ],
   "source": [
    "E_T1 = abs(I-S_T1)\n",
    "E_T1"
   ]
  },
  {
   "cell_type": "code",
   "execution_count": 15,
   "id": "neither-oakland",
   "metadata": {},
   "outputs": [
    {
     "data": {
      "text/plain": [
       "True"
      ]
     },
     "execution_count": 15,
     "metadata": {},
     "output_type": "execute_result"
    }
   ],
   "source": [
    "E_T1<=5*10**(-4)"
   ]
  },
  {
   "cell_type": "markdown",
   "id": "suffering-focus",
   "metadata": {},
   "source": [
    "Błąd teoretyczny dla $N=17$ wynosi"
   ]
  },
  {
   "cell_type": "code",
   "execution_count": 16,
   "id": "pleasant-virus",
   "metadata": {},
   "outputs": [
    {
     "data": {
      "text/plain": [
       "0.0007838182896364029"
      ]
     },
     "execution_count": 16,
     "metadata": {},
     "output_type": "execute_result"
    }
   ],
   "source": [
    "1/12/17**2*np.e"
   ]
  },
  {
   "cell_type": "code",
   "execution_count": 17,
   "id": "wound-venice",
   "metadata": {},
   "outputs": [
    {
     "data": {
      "text/plain": [
       "False"
      ]
     },
     "execution_count": 17,
     "metadata": {},
     "output_type": "execute_result"
    }
   ],
   "source": [
    "1/12/17**2*np.e<=5*10**(-4)"
   ]
  },
  {
   "cell_type": "markdown",
   "id": "charitable-cancer",
   "metadata": {},
   "source": [
    "### Porównanie wartości przybliżeń i ich błędów \n",
    "dla różnych wartości $N$."
   ]
  },
  {
   "cell_type": "code",
   "execution_count": 18,
   "id": "tight-induction",
   "metadata": {},
   "outputs": [
    {
     "data": {
      "image/png": "[encoded data removed]",
      "text/plain": [
       "<Figure size 432x288 with 1 Axes>"
      ]
     },
     "metadata": {
      "needs_background": "light"
     },
     "output_type": "display_data"
    }
   ],
   "source": [
    "x = range(1,30)\n",
    "y = [zl_trap(0,1,np.exp,i) for i in x]\n",
    "plt.scatter(x,y, color='hotpink', label='S(f) dla różnych N')\n",
    "plt.plot(x, [I for i in x], color='skyblue', label='I', linewidth=3)\n",
    "plt.scatter([17,22],[y[x.index(17)],y[x.index(22)]], color='purple', label='oszacowania dla $n=\\{17,22\\}$', s=40)\n",
    "plt.xlabel('$N$')\n",
    "plt.ylabel('wartości całki')\n",
    "plt.legend()\n",
    "plt.show()"
   ]
  },
  {
   "cell_type": "code",
   "execution_count": 19,
   "id": "hungarian-aside",
   "metadata": {},
   "outputs": [
    {
     "data": {
      "image/png": "[encoded data removed]",
      "text/plain": [
       "<Figure size 432x288 with 1 Axes>"
      ]
     },
     "metadata": {
      "needs_background": "light"
     },
     "output_type": "display_data"
    }
   ],
   "source": [
    "x = range(15,30)\n",
    "y = [zl_trap(0,1,np.exp,i)-I for i in x]\n",
    "plt.scatter(x,y, color='hotpink', label='$E(f)$ empiryczne dla różnych $N$')\n",
    "plt.plot(x, [1/12/i**2*np.e for i in x], color='skyblue', label='E(f) z oszacowania \\nteoretycznego', linewidth=3)\n",
    "plt.axhspan(0, 5*10**(-4), color='aquamarine', label='$\\leq 5\\cdot 10^{-4}$', alpha=0.5)\n",
    "plt.scatter([17,22],[y[x.index(17)],y[x.index(22)]], color='purple', label='błąd dla $n=\\{17,22\\}$', s=60)\n",
    "plt.xlabel('$N$')\n",
    "plt.ylabel('błędy')\n",
    "plt.ylim([0,0.002])\n",
    "plt.legend()\n",
    "plt.show()"
   ]
  },
  {
   "cell_type": "markdown",
   "id": "sized-behavior",
   "metadata": {},
   "source": [
    "$N$ z metody numerycznej możemy uzyskać jedynie, gdy możemy policzyć daną całkę analitycznie. W innym przypadku musimy się posłużyć teoretycznym oszacowaniem błędu."
   ]
  },
  {
   "cell_type": "markdown",
   "id": "union-montreal",
   "metadata": {},
   "source": [
    "### Kwadratura Simpsona"
   ]
  },
  {
   "cell_type": "markdown",
   "id": "flexible-edmonton",
   "metadata": {},
   "source": [
    "#### N wyznaczone z teoretycznego oszacowania błędu"
   ]
  },
  {
   "cell_type": "markdown",
   "id": "several-taste",
   "metadata": {},
   "source": [
    "Chcemy, aby błąd bezwzględny złożonej kwadratury Simpsona był niewiększy niż $5\\cdot 10^{-4}.$ Zatem korzystając ze znanego oszacowania możemy zapisać\n",
    "$$\n",
    "E\\left(f\\right)\\leq\\frac{1}{90}\\frac{b-a}{2}h^4\\max\\limits_{x\\in\\left(a,b\\right)}\\left|f^{\\left(4\\right)}\\left(x\\right)\\right|\\leq 5\\cdot 10^{-4},\n",
    "$$\n",
    "gdzie $h=\\frac{b-a}{2N}.$"
   ]
  },
  {
   "cell_type": "markdown",
   "id": "elegant-terrace",
   "metadata": {},
   "source": [
    "Analogicznie jak dla złożonej kwadratury trapezu możemy wyznaczyć\n",
    "\n",
    "$$\n",
    "N \\geq \\sqrt[4]{\\frac{{\\left(b-a\\right)}^5\\max\\limits_{x\\in\\left(a,b\\right)}\\left|f^{\\left(4\\right)}\\left(x\\right)\\right|}{2^5\\cdot 90\\cdot 5\\cdot 10^{-4}}}.\n",
    "$$"
   ]
  },
  {
   "cell_type": "code",
   "execution_count": 20,
   "id": "unlimited-enclosure",
   "metadata": {},
   "outputs": [
    {
     "data": {
      "text/plain": [
       "1.44"
      ]
     },
     "execution_count": 20,
     "metadata": {},
     "output_type": "execute_result"
    }
   ],
   "source": [
    "2**5*90*5/10**4"
   ]
  },
  {
   "cell_type": "markdown",
   "id": "illegal-supervision",
   "metadata": {},
   "source": [
    "Ostatecznie otrzymujemy\n",
    "\n",
    "$$\n",
    "N \\geq \\sqrt[4]{\\frac{{\\left(1-0\\right)}^5{\\rm{e}}}{2^5\\cdot90\\cdot 5\\cdot 10^{-4}}}\n",
    "=\\sqrt[4]{\\frac{{\\rm{e}}}{1.44}}\n",
    "$$"
   ]
  },
  {
   "cell_type": "code",
   "execution_count": 21,
   "id": "whole-noise",
   "metadata": {},
   "outputs": [
    {
     "data": {
      "text/plain": [
       "1.1721494752164106"
      ]
     },
     "execution_count": 21,
     "metadata": {},
     "output_type": "execute_result"
    }
   ],
   "source": [
    "(np.e/1.44)**(1/4)"
   ]
  },
  {
   "cell_type": "markdown",
   "id": "physical-variable",
   "metadata": {},
   "source": [
    "Jako że $N\\in\\mathbb{Z}$, to minimalne $N$ takie, że błąd bezwzględny na pewno jest niewiększy niż $5\\cdot 10^{-4},$ wynosi $2$."
   ]
  },
  {
   "cell_type": "code",
   "execution_count": 22,
   "id": "genuine-dynamics",
   "metadata": {},
   "outputs": [],
   "source": [
    "def zl_simp(a,b,f,N):\n",
    "    \"\"\"\n",
    "    Calculate composite Simpson's rule\n",
    "    \n",
    "    @par a: (int,float) start of the range of integral\n",
    "    @par b: (int,float) end of the range of integral\n",
    "    @par f: (function) function that the intergal is calculated from\n",
    "    @par N: (int,float) amount of equally spaced panels\n",
    "    return: (float) composite Simpson's rule\n",
    "    \"\"\"\n",
    "    h = (b-a)/N/2\n",
    "    c = np.linspace(a,b,N+1)\n",
    "    return h/3*sum(f(c[i])+4*f((c[i]+c[i+1])/2)+f(c[i+1]) for i in range(N))"
   ]
  },
  {
   "cell_type": "code",
   "execution_count": 23,
   "id": "substantial-separate",
   "metadata": {},
   "outputs": [
    {
     "data": {
      "text/plain": [
       "1.718318841921747"
      ]
     },
     "execution_count": 23,
     "metadata": {},
     "output_type": "execute_result"
    }
   ],
   "source": [
    "S_S = zl_simp(0,1,np.exp,2)\n",
    "S_S"
   ]
  },
  {
   "cell_type": "markdown",
   "id": "retained-advocacy",
   "metadata": {},
   "source": [
    "Wartość całki przybliżona przy pomocy złożonej kwadratury Simpsona wynosi \n",
    "\n",
    "$$S\\left(f\\right)\\approx 1.71831884.$$"
   ]
  },
  {
   "cell_type": "markdown",
   "id": "rental-armstrong",
   "metadata": {},
   "source": [
    "Wartość błędu bezwzględnego wyznaczmy jako $E\\left(f\\right)=\\left|I\\left(f\\right)-S\\left(f\\right)\\right|=\\left|{\\rm{e}}-1-S\\left(f\\right)\\right|$"
   ]
  },
  {
   "cell_type": "code",
   "execution_count": 24,
   "id": "missing-amazon",
   "metadata": {},
   "outputs": [
    {
     "data": {
      "text/plain": [
       "3.7013462701906974e-05"
      ]
     },
     "execution_count": 24,
     "metadata": {},
     "output_type": "execute_result"
    }
   ],
   "source": [
    "E_S = abs(I-S_S)\n",
    "E_S"
   ]
  },
  {
   "cell_type": "code",
   "execution_count": 25,
   "id": "exterior-cincinnati",
   "metadata": {},
   "outputs": [
    {
     "data": {
      "text/plain": [
       "True"
      ]
     },
     "execution_count": 25,
     "metadata": {},
     "output_type": "execute_result"
    }
   ],
   "source": [
    "E_S<=5*10**(-4)"
   ]
  },
  {
   "cell_type": "markdown",
   "id": "reliable-particular",
   "metadata": {},
   "source": [
    "Błąd teoretyczny dla $N=2$ wynosi"
   ]
  },
  {
   "cell_type": "code",
   "execution_count": 26,
   "id": "distant-forward",
   "metadata": {},
   "outputs": [
    {
     "data": {
      "text/plain": [
       "5.8990491068989694e-05"
      ]
     },
     "execution_count": 26,
     "metadata": {},
     "output_type": "execute_result"
    }
   ],
   "source": [
    "1/90/2/(2*2)**4*np.e"
   ]
  },
  {
   "cell_type": "code",
   "execution_count": 27,
   "id": "preceding-offense",
   "metadata": {},
   "outputs": [
    {
     "data": {
      "text/plain": [
       "True"
      ]
     },
     "execution_count": 27,
     "metadata": {},
     "output_type": "execute_result"
    }
   ],
   "source": [
    "1/90/2/(2*2)**4*np.e<=5*10**(-4)"
   ]
  },
  {
   "cell_type": "markdown",
   "id": "interior-cleveland",
   "metadata": {},
   "source": [
    "#### N wyznaczone numerycznie"
   ]
  },
  {
   "cell_type": "code",
   "execution_count": 28,
   "id": "congressional-excuse",
   "metadata": {},
   "outputs": [
    {
     "data": {
      "text/plain": [
       "2"
      ]
     },
     "execution_count": 28,
     "metadata": {},
     "output_type": "execute_result"
    }
   ],
   "source": [
    "N=0\n",
    "e=1\n",
    "while e>(5*10**(-4)):\n",
    "    N += 1\n",
    "    s = zl_simp(0,1,np.exp,N)\n",
    "    e = abs(s-I)\n",
    "N   "
   ]
  },
  {
   "cell_type": "markdown",
   "id": "stopped-elephant",
   "metadata": {},
   "source": [
    "$N$ wyszło takie samo jak z teoretycznego oszacowania."
   ]
  },
  {
   "cell_type": "markdown",
   "id": "unable-saying",
   "metadata": {},
   "source": [
    "<b>Dodatkowo można rozważyć inne oszacowanie błędu:</b>\n",
    "$$E\\left(f\\right)\\leq\\frac{1}{12}\\frac{b-a}{2}h^3\\max\\limits_{x\\in\\left(a,b\\right)}\\left|f^{\\left(3\\right)}\\left(x\\right)\\right|.$$"
   ]
  },
  {
   "cell_type": "markdown",
   "id": "transsexual-revelation",
   "metadata": {},
   "source": [
    "Wtedy otrzymujemy\n",
    "\n",
    "$$\n",
    "N \\geq \\sqrt[3]{\\frac{{\\left(1-0\\right)}^4{\\rm{e}}}{2^4\\cdot12\\cdot 5\\cdot 10^{-4}}}\n",
    "=\\sqrt[3]{\\frac{{\\rm{e}}}{0.096}}\n",
    "$$"
   ]
  },
  {
   "cell_type": "code",
   "execution_count": 29,
   "id": "exceptional-creature",
   "metadata": {},
   "outputs": [
    {
     "data": {
      "text/plain": [
       "0.096"
      ]
     },
     "execution_count": 29,
     "metadata": {},
     "output_type": "execute_result"
    }
   ],
   "source": [
    "2**4*12*5/10**4"
   ]
  },
  {
   "cell_type": "code",
   "execution_count": 30,
   "id": "saved-buffalo",
   "metadata": {},
   "outputs": [
    {
     "data": {
      "text/plain": [
       "3.0479493772461477"
      ]
     },
     "execution_count": 30,
     "metadata": {},
     "output_type": "execute_result"
    }
   ],
   "source": [
    "(np.e/(0.096))**(1/3)"
   ]
  },
  {
   "cell_type": "markdown",
   "id": "digital-farming",
   "metadata": {},
   "source": [
    "Jako że $N\\in\\mathbb{Z}$, to minimalne $N$ takie, że błąd bezwzględny na pewno jest niewiększy niż $5\\cdot 10^{-4},$ wynosi $4$."
   ]
  },
  {
   "cell_type": "code",
   "execution_count": 39,
   "id": "elementary-investment",
   "metadata": {},
   "outputs": [
    {
     "data": {
      "text/plain": [
       "1.718284154699897"
      ]
     },
     "execution_count": 39,
     "metadata": {},
     "output_type": "execute_result"
    }
   ],
   "source": [
    "S_S1 = zl_simp(0,1,np.exp,4)\n",
    "S_S1"
   ]
  },
  {
   "cell_type": "markdown",
   "id": "cardiovascular-dover",
   "metadata": {},
   "source": [
    "Wartość całki przybliżona przy pomocy złożonej kwadratury Simpsona wynosi \n",
    "\n",
    "$$S\\left(f\\right)\\approx 1.7182841547.$$"
   ]
  },
  {
   "cell_type": "markdown",
   "id": "floral-dominant",
   "metadata": {},
   "source": [
    "Wartość błędu bezwzględnego wynosi"
   ]
  },
  {
   "cell_type": "code",
   "execution_count": 40,
   "id": "surprised-holiday",
   "metadata": {},
   "outputs": [
    {
     "data": {
      "text/plain": [
       "2.3262408519464373e-06"
      ]
     },
     "execution_count": 40,
     "metadata": {},
     "output_type": "execute_result"
    }
   ],
   "source": [
    "E_S1 = abs(I-S_S1)\n",
    "E_S1"
   ]
  },
  {
   "cell_type": "code",
   "execution_count": 41,
   "id": "painful-utilization",
   "metadata": {},
   "outputs": [
    {
     "data": {
      "text/plain": [
       "True"
      ]
     },
     "execution_count": 41,
     "metadata": {},
     "output_type": "execute_result"
    }
   ],
   "source": [
    "E_S1<=5*10**(-4)"
   ]
  },
  {
   "cell_type": "markdown",
   "id": "occasional-geology",
   "metadata": {},
   "source": [
    "Błąd teoretyczny dla $N=4$ wynosi"
   ]
  },
  {
   "cell_type": "code",
   "execution_count": 42,
   "id": "purple-title",
   "metadata": {},
   "outputs": [
    {
     "data": {
      "text/plain": [
       "0.00022121434150871135"
      ]
     },
     "execution_count": 42,
     "metadata": {},
     "output_type": "execute_result"
    }
   ],
   "source": [
    "1/12/2/(2*4)**3*np.e"
   ]
  },
  {
   "cell_type": "code",
   "execution_count": 43,
   "id": "stone-header",
   "metadata": {},
   "outputs": [
    {
     "data": {
      "text/plain": [
       "True"
      ]
     },
     "execution_count": 43,
     "metadata": {},
     "output_type": "execute_result"
    }
   ],
   "source": [
    "1/12/2/(2*4)**3*np.e<=5*10**(-4)"
   ]
  },
  {
   "cell_type": "markdown",
   "id": "objective-entertainment",
   "metadata": {},
   "source": [
    "### Porównanie wartości przybliżeń i ich błędów \n",
    "dla różnych wartości $N$."
   ]
  },
  {
   "cell_type": "code",
   "execution_count": 46,
   "id": "ancient-mandate",
   "metadata": {},
   "outputs": [
    {
     "data": {
      "image/png": "[encoded data removed]",
      "text/plain": [
       "<Figure size 432x288 with 1 Axes>"
      ]
     },
     "metadata": {
      "needs_background": "light"
     },
     "output_type": "display_data"
    }
   ],
   "source": [
    "x = range(1,30)\n",
    "y = [zl_simp(0,1,np.exp,i) for i in x]\n",
    "plt.scatter(x,y, color='hotpink', label='S(f) dla różnych N')\n",
    "plt.plot(x, [I for i in x], color='skyblue', label='I', linewidth=3)\n",
    "plt.scatter([2,4],[y[x.index(2)],y[x.index(4)]], color='purple', label='oszacowania dla $n=\\{2,3\\}$', s=40)\n",
    "plt.xlabel('$N$')\n",
    "plt.ylabel('wartości całki')\n",
    "plt.ylim([1.7181,1.719])\n",
    "plt.legend()\n",
    "plt.show()"
   ]
  },
  {
   "cell_type": "code",
   "execution_count": 47,
   "id": "honey-hartford",
   "metadata": {},
   "outputs": [
    {
     "data": {
      "image/png": "[encoded data removed]",
      "text/plain": [
       "<Figure size 432x288 with 1 Axes>"
      ]
     },
     "metadata": {
      "needs_background": "light"
     },
     "output_type": "display_data"
    }
   ],
   "source": [
    "x = range(1,6)\n",
    "y = [zl_simp(0,1,np.exp,i)-I for i in x]\n",
    "plt.scatter(x,y, color='hotpink', label='$E(f)$ empiryczne \\ndla różnych $N$')\n",
    "plt.plot(x, [1/90/(2*i)**4*np.e/2 for i in x], color='skyblue', label='E(f) z oszacowania \\nteoretycznego', linewidth=3)\n",
    "plt.axhspan(-0.005, 5*10**(-4), color='aquamarine', label='$\\leq 5\\cdot 10^{-4}$', alpha=0.5)\n",
    "plt.scatter(2,y[x.index(2)], color='purple', label='błąd dla $n=2$', s=60)\n",
    "plt.xlabel('$N$')\n",
    "plt.ylabel('błędy')\n",
    "plt.ylim([-0.0005,0.0011])\n",
    "plt.legend()\n",
    "plt.show()"
   ]
  },
  {
   "cell_type": "code",
   "execution_count": 48,
   "id": "tough-capital",
   "metadata": {},
   "outputs": [
    {
     "data": {
      "image/png": "[encoded data removed]",
      "text/plain": [
       "<Figure size 432x288 with 1 Axes>"
      ]
     },
     "metadata": {
      "needs_background": "light"
     },
     "output_type": "display_data"
    }
   ],
   "source": [
    "x = range(1,6)\n",
    "y = [zl_simp(0,1,np.exp,i)-I for i in x]\n",
    "plt.scatter(x,y, color='hotpink', label='$E(f)$ empiryczne \\ndla różnych $N$')\n",
    "plt.plot(x, [1/90/(2*i)**4*np.e/2 for i in x], color='skyblue', label='E(f) z oszacowania \\nteoretycznego', linewidth=3)\n",
    "plt.plot(x, [1/12/(2*i)**3*np.e/2 for i in x], color='lime', label='E(f) z gorszego \\noszacowania \\nbłędu', linewidth=3)\n",
    "plt.axhspan(-0.005, 5*10**(-4), color='aquamarine', label='$\\leq 5\\cdot 10^{-4}$', alpha=0.5)\n",
    "plt.scatter([2,4],[y[x.index(2)],y[x.index(4)]], color='purple', label='błąd dla $n=\\{2,3\\}$', s=60)\n",
    "plt.xlabel('$N$')\n",
    "plt.ylabel('błędy')\n",
    "plt.ylim([-0.0005,0.008])\n",
    "plt.legend()\n",
    "plt.show()"
   ]
  },
  {
   "cell_type": "code",
   "execution_count": null,
   "id": "cardiac-methodology",
   "metadata": {},
   "outputs": [],
   "source": []
  },
  {
   "cell_type": "code",
   "execution_count": null,
   "id": "constitutional-cathedral",
   "metadata": {},
   "outputs": [],
   "source": []
  }
 ],
 "metadata": {
  "kernelspec": {
   "display_name": "Python 3",
   "language": "python",
   "name": "python3"
  },
  "language_info": {
   "codemirror_mode": {
    "name": "ipython",
    "version": 3
   },
   "file_extension": ".py",
   "mimetype": "text/x-python",
   "name": "python",
   "nbconvert_exporter": "python",
   "pygments_lexer": "ipython3",
   "version": "3.7.0"
  }
 },
 "nbformat": 4,
 "nbformat_minor": 5
}
